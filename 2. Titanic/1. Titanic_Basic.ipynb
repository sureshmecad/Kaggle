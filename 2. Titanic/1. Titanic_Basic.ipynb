{
 "cells": [
  {
   "cell_type": "markdown",
   "metadata": {},
   "source": [
    "### The challenge\n",
    "\n",
    "- The competition is simple: we want you to **use the Titanic passenger data (name, age, price of ticket, etc) to try to predict who will survive and who will die**."
   ]
  },
  {
   "cell_type": "markdown",
   "metadata": {},
   "source": [
    "- There are three files in the data:\n",
    "\n",
    "     (1) train.csv\n",
    "     \n",
    "     (2) test.csv\n",
    "     \n",
    "     (3) gender_submission.csv"
   ]
  },
  {
   "cell_type": "markdown",
   "metadata": {},
   "source": [
    "### (1) train.csv\n",
    "\n",
    "#### The values in the second column (\"Survived\") can be used to determine whether each passenger survived or not:\n",
    "\n",
    "\n",
    "\n",
    "   - if it's a \"1\", the passenger survived.\n",
    "   \n",
    "  \n",
    "   - if it's a \"0\", the passenger died.\n",
    "  \n",
    "  \n",
    "#### For instance, the first passenger listed in train.csv is Mr. Owen Harris Braund. He was 22 years old when he died on the Titanic.\n",
    "\n",
    "\n",
    "### (2) test.csv\n",
    "\n",
    "Using the patterns you find in train.csv, you have to predict whether the other 418 passengers on board (in test.csv) survived.\n",
    "\n",
    "Note that test.csv **does not have a \"Survived\" column** - this information is hidden from you, and how well you do at predicting these hidden values will determine how highly you score in the competition!\n",
    "\n",
    "\n",
    "### (3) gender_submission.csv\n",
    "\n",
    "The gender_submission.csv file is provided as an example that shows how you should structure your predictions. It predicts that all female passengers survived, and all male passengers died. Your hypotheses regarding survival will probably be different, which will lead to a different submission file. But, just like this file, your submission should have:\n",
    "\n",
    "\n",
    "- a \"PassengerId\" column containing the IDs of each passenger from test.csv.\n",
    "\n",
    "\n",
    "- a \"Survived\" column (that you will create!) with a \"1\" for the rows where you think the passenger survived, and a \"0\" where you predict that the passenger died."
   ]
  }
 ],
 "metadata": {
  "kernelspec": {
   "display_name": "Python 3",
   "language": "python",
   "name": "python3"
  },
  "language_info": {
   "codemirror_mode": {
    "name": "ipython",
    "version": 3
   },
   "file_extension": ".py",
   "mimetype": "text/x-python",
   "name": "python",
   "nbconvert_exporter": "python",
   "pygments_lexer": "ipython3",
   "version": "3.7.3"
  }
 },
 "nbformat": 4,
 "nbformat_minor": 2
}
